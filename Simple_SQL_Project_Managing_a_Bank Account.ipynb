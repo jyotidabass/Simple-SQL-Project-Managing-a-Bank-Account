{
  "nbformat": 4,
  "nbformat_minor": 0,
  "metadata": {
    "colab": {
      "provenance": [],
      "authorship_tag": "ABX9TyNKnmVpXVLKl8rPFeuiaJo+",
      "include_colab_link": true
    },
    "kernelspec": {
      "name": "python3",
      "display_name": "Python 3"
    },
    "language_info": {
      "name": "python"
    }
  },
  "cells": [
    {
      "cell_type": "markdown",
      "metadata": {
        "id": "view-in-github",
        "colab_type": "text"
      },
      "source": [
        "<a href=\"https://colab.research.google.com/github/jyotidabass/Simple-SQL-Project-Managing-a-Bank-Account/blob/main/Simple_SQL_Project_Managing_a_Bank%C2%A0Account.ipynb\" target=\"_parent\"><img src=\"https://colab.research.google.com/assets/colab-badge.svg\" alt=\"Open In Colab\"/></a>"
      ]
    },
    {
      "cell_type": "code",
      "source": [
        "import sqlite3\n",
        "import pandas as pd\n",
        "\n",
        "# Create a connection to the SQLite database\n",
        "conn = sqlite3.connect(':memory:')\n",
        "\n",
        "# Create tables\n",
        "cursor = conn.cursor()\n",
        "cursor.execute('''\n",
        "    CREATE TABLE accounts (\n",
        "        account_id INT PRIMARY KEY,\n",
        "        account_name VARCHAR(255),\n",
        "        balance DECIMAL(10, 2)\n",
        "    )\n",
        "''')\n",
        "\n",
        "cursor.execute('''\n",
        "    CREATE TABLE transactions (\n",
        "        transaction_id INT PRIMARY KEY,\n",
        "        account_id INT,\n",
        "        transaction_date DATE,\n",
        "        amount DECIMAL(10, 2),\n",
        "        type VARCHAR(255),\n",
        "        FOREIGN KEY (account_id) REFERENCES accounts(account_id)\n",
        "    )\n",
        "''')\n",
        "\n",
        "# Insert dummy data\n",
        "cursor.execute('''\n",
        "    INSERT INTO accounts (account_id, account_name, balance) VALUES\n",
        "        (1, 'John Doe', 1000.00),\n",
        "        (2, 'Jane Doe', 500.00)\n",
        "''')\n",
        "\n",
        "cursor.execute('''\n",
        "    INSERT INTO transactions (transaction_id, account_id, transaction_date, amount, type) VALUES\n",
        "        (1, 1, '2022-01-01', 100.00, 'deposit'),\n",
        "        (2, 1, '2022-01-02', -50.00, 'withdrawal'),\n",
        "        (3, 2, '2022-01-03', 200.00, 'deposit')\n",
        "''')\n",
        "\n",
        "# Query to get the current balance of an account\n",
        "cursor.execute('SELECT balance FROM accounts WHERE account_id = 1')\n",
        "print(cursor.fetchone())\n",
        "\n",
        "# Query to get the total amount of all deposits and withdrawals for an account\n",
        "cursor.execute('''\n",
        "    SELECT SUM(CASE WHEN type = 'deposit' THEN amount ELSE 0 END) AS total_deposits,\n",
        "           SUM(CASE WHEN type = 'withdrawal' THEN amount ELSE 0 END) AS total_withdrawals\n",
        "    FROM transactions WHERE account_id = 1\n",
        "''')\n",
        "print(cursor.fetchone())\n",
        "\n",
        "# Close the connection\n",
        "conn.close()"
      ],
      "metadata": {
        "colab": {
          "base_uri": "https://localhost:8080/"
        },
        "id": "XOZGoqKZ6L2n",
        "outputId": "5478baeb-0cb3-476a-b967-62492e658212"
      },
      "execution_count": 8,
      "outputs": [
        {
          "output_type": "stream",
          "name": "stdout",
          "text": [
            "(1000,)\n",
            "(100, -50)\n"
          ]
        }
      ]
    }
  ]
}